{
 "cells": [
  {
   "cell_type": "markdown",
   "id": "6371372a-d380-4269-84f5-426bd2443122",
   "metadata": {},
   "source": [
    "## データ水増しようのファイル"
   ]
  },
  {
   "cell_type": "code",
   "execution_count": 1,
   "id": "6d4c09ef-8a29-4d84-ba32-2b5ecc3126d9",
   "metadata": {},
   "outputs": [],
   "source": [
    "import copy\n",
    "import os\n",
    "import glob\n",
    "from PIL import Image"
   ]
  },
  {
   "cell_type": "markdown",
   "id": "d24dbcbb-9c6b-482c-b9a4-eb0e727b328a",
   "metadata": {},
   "source": [
    "### 関数関係"
   ]
  },
  {
   "cell_type": "code",
   "execution_count": 6,
   "id": "5b4bd9be-3796-487e-ba81-a1f5e09c5c43",
   "metadata": {},
   "outputs": [],
   "source": [
    "def rotate_image(src_image, rotate=0):\n",
    "    \"\"\"回転処理\n",
    "    \"\"\"\n",
    "    dst_image = copy.deepcopy(src_image)\n",
    "    return dst_image.rotate(rotate)\n",
    "\n",
    "def to_gray(src_image):\n",
    "    \"\"\"グレースケール化\n",
    "    \"\"\"\n",
    "    dst_image = copy.deepcopy(src_image)\n",
    "    return dst_image.convert('L')\n",
    "\n",
    "def change_brightness(src_image, value):\n",
    "    \"\"\"明度を変換する\n",
    "    \"\"\"\n",
    "    dst_image = copy.deepcopy(src_image)\n",
    "    return dst_image.point(lambda x: x * value)\n",
    "\n",
    "def change_size(src_image, rate):\n",
    "    \"\"\"大きさを変換する\n",
    "    \"\"\"\n",
    "    dst_image = copy.deepcopy(src_image)\n",
    "    return dst_image.resize((int(dst_image.width * rate), int(dst_image.height * rate)), Image.LANCZOS)"
   ]
  },
  {
   "cell_type": "markdown",
   "id": "d825b367-188e-4d6c-b44c-107ebd5b4dc8",
   "metadata": {},
   "source": [
    "### main"
   ]
  },
  {
   "cell_type": "code",
   "execution_count": null,
   "id": "2ecef471-f973-49ff-8582-b980fc648867",
   "metadata": {},
   "outputs": [],
   "source": [
    "for label in [0, 1]:\n",
    "    src_dir_path = f\"../Dataset/train/{label}/*\"\n",
    "    for image_file_path in glob.glob(src_dir_path):\n",
    "        image = Image.open(image_file_path)\n",
    "        image_file_name = os.path.basename(image_file_path)\n",
    "        for TO_GRAY in [True, False]:\n",
    "            if TO_GRAY:\n",
    "                gray = \"gray\"\n",
    "                grayed_image = to_gray(image)\n",
    "            else:\n",
    "                gray = \"color\"\n",
    "                grayed_image = copy.deepcopy(image)\n",
    "            for ROTATE in [0, 90, 180, 270]:\n",
    "                rotated_image = rotate_image(grayed_image, ROTATE)\n",
    "                for BRIGHTESS in [0.5, 1.0, 1.5, 2.0]:\n",
    "                    change_brightnessed_image = change_brightness(rotated_image, BRIGHTESS)\n",
    "                    for SIZE in [0.5, 0.7, 1.0, 1.1, 1.3, 1.7, 2.0]:\n",
    "                        final_image = change_size(change_brightnessed_image, SIZE)\n",
    "                        # 出力(解像度ごとの出力)\n",
    "                        for RESOLUTION in [95]:\n",
    "                            export_path = f\"../data/{label}/{gray}_{ROTATE}_{BRIGHTESS}_{SIZE}_{RESOLUTION}_{image_file_name}\"\n",
    "                            final_image.save(export_path, quality=RESOLUTION)"
   ]
  },
  {
   "cell_type": "code",
   "execution_count": null,
   "id": "09d173c3-9ff6-429a-b0be-f74ea022a150",
   "metadata": {},
   "outputs": [],
   "source": []
  }
 ],
 "metadata": {
  "kernelspec": {
   "display_name": "Python 3 (ipykernel)",
   "language": "python",
   "name": "python3"
  },
  "language_info": {
   "codemirror_mode": {
    "name": "ipython",
    "version": 3
   },
   "file_extension": ".py",
   "mimetype": "text/x-python",
   "name": "python",
   "nbconvert_exporter": "python",
   "pygments_lexer": "ipython3",
   "version": "3.8.17"
  }
 },
 "nbformat": 4,
 "nbformat_minor": 5
}
